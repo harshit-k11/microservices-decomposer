{
  "nbformat": 4,
  "nbformat_minor": 0,
  "metadata": {
    "colab": {
      "provenance": [],
      "authorship_tag": "ABX9TyOYf/B5u4ptIlneo1B2okSe",
      "include_colab_link": true
    },
    "kernelspec": {
      "name": "python3",
      "display_name": "Python 3"
    },
    "language_info": {
      "name": "python"
    }
  },
  "cells": [
    {
      "cell_type": "markdown",
      "metadata": {
        "id": "view-in-github",
        "colab_type": "text"
      },
      "source": [
        "<a href=\"https://colab.research.google.com/github/harshit-k11/microservices-decomposer/blob/main/Untitled0.ipynb\" target=\"_parent\"><img src=\"https://colab.research.google.com/assets/colab-badge.svg\" alt=\"Open In Colab\"/></a>"
      ]
    },
    {
      "cell_type": "code",
      "execution_count": null,
      "metadata": {
        "colab": {
          "base_uri": "https://localhost:8080/"
        },
        "id": "AClO1bSZ64hy",
        "outputId": "c795cae7-6abc-4124-ecd3-248a29ffc4d7"
      },
      "outputs": [
        {
          "output_type": "stream",
          "name": "stdout",
          "text": [
            "Enter the desired number of microservices (or 0 for automatic): 0\n",
            "Louvain Communities:\n",
            "Service 1: \n",
            "Nanoentities: CarrierMovement.departureLocation, AddCarrierMovement, Leg.unloadTime, Voyage.voyageNumber, RouteCargo, Leg.loadTime, CarrierMovement.arrivalTime, CarrierMovement.departureTime, Create Voyage, CarrierMovement.arrivalLocation, Leg.loadLocation, Leg.unloadLocation\n",
            "Service 2: \n",
            "Nanoentities: HandlingEvent.type, ViewTracking, Delivery.isUnloadedAtDestination, Delivery.estimatedArrivalTime, handleCargoEvent, Delivery.transportStatus, Delivery.misdirected, HandlingEvent.location, HandlingEvent.registrationTime, HandlingEvent.completionTime\n",
            "Service 3: \n",
            "Nanoentities: \n",
            "Service 4: \n",
            "Nanoentities: RouteSpecification.destination, ChangeCargoDestination, RouteSpecification.arrivalDeadline, Delivery.routingStatus, Cargo.trackingId, Itinerary.itineraryNumber, BookCargo, ViewCargos, RouteSpecification.origin\n",
            "Service 5: \n",
            "Nanoentities: Location.name, Location.unLocode, Create Location\n",
            "Communities exported to communities.json\n"
          ]
        }
      ],
      "source": [
        "import json\n",
        "import networkx as nx\n",
        "import matplotlib.pyplot as plt\n",
        "\n",
        "class CommunityDetector:\n",
        "    def __init__(self, user_model_file, user_representations_file):\n",
        "        self.user_model = self.load_data(user_model_file)\n",
        "        self.user_representations = self.load_data(user_representations_file)\n",
        "        self.graph = self.create_graph()\n",
        "\n",
        "    def load_data(self, file_path):\n",
        "        with open(file_path, \"r\") as file:\n",
        "            data = json.load(file)\n",
        "        return data\n",
        "\n",
        "    def create_graph(self):\n",
        "        graph = nx.Graph()\n",
        "\n",
        "        # Add entities as nodes\n",
        "        for entity in self.user_model[\"entities\"]:\n",
        "            graph.add_node(entity[\"name\"])\n",
        "\n",
        "        # Add relations as edges\n",
        "        for relation in self.user_model[\"relations\"]:\n",
        "            graph.add_edge(relation[\"origin\"], relation[\"destination\"])\n",
        "\n",
        "        # Add use cases as nodes\n",
        "        for use_case in self.user_representations[\"useCases\"]:\n",
        "            graph.add_node(use_case[\"name\"])\n",
        "\n",
        "        # Add nanoentities as nodes\n",
        "        nanoentities = set()\n",
        "        for use_case in self.user_representations[\"useCases\"]:\n",
        "            nanoentities.update(use_case[\"nanoentitiesRead\"] + use_case[\"nanoentitiesWritten\"])\n",
        "        for nanoentity in nanoentities:\n",
        "            graph.add_node(nanoentity)\n",
        "\n",
        "        # Add edges between use cases and entities based on nanoentities read/written\n",
        "        for use_case in self.user_representations[\"useCases\"]:\n",
        "            for nanoentity in use_case[\"nanoentitiesRead\"] + use_case[\"nanoentitiesWritten\"]:\n",
        "                graph.add_edge(use_case[\"name\"], nanoentity)\n",
        "\n",
        "        return graph\n",
        "\n",
        "    def detect_communities(self, num_communities=None):\n",
        "        if num_communities is None:\n",
        "            partition = nx.algorithms.community.modularity_max.greedy_modularity_communities(self.graph)\n",
        "        else:\n",
        "            partition = nx.algorithms.community.modularity_max.greedy_modularity_communities(self.graph, num_communities)\n",
        "\n",
        "        communities = list(partition)\n",
        "        return communities\n",
        "\n",
        "    def print_communities(self, communities):\n",
        "        for i, community in enumerate(communities, start=1):\n",
        "            business_functions = [node for node in community if node in self.user_representations[\"useCases\"]]\n",
        "            nanoentities = [node for node in community if node not in self.user_representations[\"useCases\"] and node not in [entity[\"name\"] for entity in self.user_model[\"entities\"]]]\n",
        "            print(f\"Service {i}: {', '.join(business_functions)}\")\n",
        "            print(f\"Nanoentities: {', '.join(nanoentities)}\")\n",
        "\n",
        "    def export_communities_to_json(self, communities, output_file):\n",
        "        services = []\n",
        "        for i, community in enumerate(communities, start=1):\n",
        "            nanoentities = [\n",
        "                node for node in community\n",
        "                if node not in [use_case[\"name\"] for use_case in self.user_representations[\"useCases\"]] and\n",
        "                   node not in [entity[\"name\"] for entity in self.user_model[\"entities\"]]\n",
        "            ]\n",
        "            service = {\n",
        "                \"nanoentities\": nanoentities,\n",
        "                \"id\": chr(65 + i - 1),  # ASCII A, B, C, ...\n",
        "                \"name\": f\"Service {chr(65 + i - 1)}\"\n",
        "            }\n",
        "            services.append(service)\n",
        "\n",
        "        export_data = {\n",
        "            \"services\": services,\n",
        "            \"relations\": [],  # Relations are not specified in the example\n",
        "            \"useCaseResponsibility\": {}  # Use case responsibilities are not specified in the example\n",
        "        }\n",
        "\n",
        "        with open(output_file, \"w\") as file:\n",
        "            json.dump(export_data, file, indent=4)\n",
        "\n",
        "if __name__ == \"__main__\":\n",
        "    user_model_file = \"ddd_1_model.json\"\n",
        "    user_representations_file = \"ddd_2_user_representations.json\"\n",
        "\n",
        "    community_detector = CommunityDetector(user_model_file, user_representations_file)\n",
        "\n",
        "    num_communities = int(input(\"Enter the desired number of microservices (or 0 for automatic): \"))\n",
        "    communities = community_detector.detect_communities(num_communities)\n",
        "\n",
        "    print(\"Louvain Communities:\")\n",
        "    community_detector.print_communities(communities)\n",
        "\n",
        "    output_file = \"communities.json\"\n",
        "    community_detector.export_communities_to_json(communities, output_file)\n",
        "    print(f\"Communities exported to {output_file}\")\n"
      ]
    }
  ]
}